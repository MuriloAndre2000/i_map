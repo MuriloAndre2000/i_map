{
 "cells": [
  {
   "cell_type": "code",
   "execution_count": 1,
   "metadata": {},
   "outputs": [],
   "source": [
    "import pandas as pd\n",
    "from ipywidgets import *\n",
    "from ipyleaflet import *\n",
    "#from immo import *\n",
    "import sqlite3\n",
    "dfnearest = pd.read_csv('dfnearest.csv')\n",
    "dfnearest.columns = [x.replace('/','')for x in dfnearest.columns]\n",
    "conn = sqlite3.connect('Immo.db')\n",
    "dfnearest.to_sql('Real_State', conn, if_exists='replace', index = False)\n",
    "conn.close()"
   ]
  },
  {
   "cell_type": "code",
   "execution_count": 4,
   "metadata": {},
   "outputs": [
    {
     "data": {
      "application/vnd.jupyter.widget-view+json": {
       "model_id": "56a9089d70094107afff08fb55f6b7a6",
       "version_major": 2,
       "version_minor": 0
      },
      "text/plain": [
       "IntSlider(value=0, description='Area_Min:', max=50)"
      ]
     },
     "metadata": {},
     "output_type": "display_data"
    },
    {
     "data": {
      "application/vnd.jupyter.widget-view+json": {
       "model_id": "ee9fe663a62f4d52ab17a69da575176d",
       "version_major": 2,
       "version_minor": 0
      },
      "text/plain": [
       "IntSlider(value=102, description='Area_Max:', max=401)"
      ]
     },
     "metadata": {},
     "output_type": "display_data"
    },
    {
     "data": {
      "application/vnd.jupyter.widget-view+json": {
       "model_id": "f3fc4548b09849a5a5902e296371035e",
       "version_major": 2,
       "version_minor": 0
      },
      "text/plain": [
       "IntSlider(value=0, description='Price_Min:', max=20)"
      ]
     },
     "metadata": {},
     "output_type": "display_data"
    },
    {
     "data": {
      "application/vnd.jupyter.widget-view+json": {
       "model_id": "2e28d87595764d6b867fe21aa9e4b2ba",
       "version_major": 2,
       "version_minor": 0
      },
      "text/plain": [
       "IntSlider(value=20, description='Price_Max:', max=20)"
      ]
     },
     "metadata": {},
     "output_type": "display_data"
    },
    {
     "data": {
      "application/vnd.jupyter.widget-view+json": {
       "model_id": "0f555d134450461aafb65bff746cb3ad",
       "version_major": 2,
       "version_minor": 0
      },
      "text/plain": [
       "IntSlider(value=1950, description='Year_Min:', max=2020, min=1870)"
      ]
     },
     "metadata": {},
     "output_type": "display_data"
    },
    {
     "data": {
      "application/vnd.jupyter.widget-view+json": {
       "model_id": "7778dac5612c4fd9ba7bac8a0fc39609",
       "version_major": 2,
       "version_minor": 0
      },
      "text/plain": [
       "IntSlider(value=2020, description='Year_Max:', max=2020, min=1900)"
      ]
     },
     "metadata": {},
     "output_type": "display_data"
    },
    {
     "name": "stderr",
     "output_type": "stream",
     "text": [
      "100%|███████████████████████████████████████████████████████████████████████████████████████████████████████████████████████████████████████████████████████████████████████████| 107/107 [00:01<00:00, 93.37it/s]"
     ]
    },
    {
     "name": "stdout",
     "output_type": "stream",
     "text": [
      "107  Real_States\n"
     ]
    },
    {
     "name": "stderr",
     "output_type": "stream",
     "text": [
      "\n"
     ]
    },
    {
     "data": {
      "application/vnd.jupyter.widget-view+json": {
       "model_id": "1c42f5f7bc5243cb99e808a33786d6d2",
       "version_major": 2,
       "version_minor": 0
      },
      "text/plain": [
       "Map(center=[52.57005, 13.39995], controls=(ZoomControl(options=['position', 'zoom_in_text', 'zoom_in_title', '…"
      ]
     },
     "metadata": {},
     "output_type": "display_data"
    }
   ],
   "source": [
    "from PIL import ImageFont\n",
    "from PIL import ImageDraw\n",
    "from PIL import Image\n",
    "import pandas as pd\n",
    "import random\n",
    "import time\n",
    "from IPython.display import clear_output\n",
    "import math\n",
    "from tqdm import tqdm\n",
    "import pandas as pd\n",
    "pd.options.mode.chained_assignment = None  # default='warn'\n",
    "from ipywidgets import *\n",
    "from ipyleaflet import *\n",
    "from tqdm import tqdm\n",
    "import asyncio\n",
    "import sqlite3\n",
    "\n",
    "\n",
    "def plot_real(number, r):\n",
    "    x = 30\n",
    "    y = 30\n",
    "    img = Image.new('RGBA', (60,60), (250,250,250,0))\n",
    "    draw = ImageDraw.Draw(img)\n",
    "    font = ImageFont.truetype('Immo/Arial.ttf',18)\n",
    "    leftUpPoint = (x-r, y-r)\n",
    "    rightDownPoint = (x+r, y+r)\n",
    "    twoPointList = [leftUpPoint, rightDownPoint]\n",
    "    draw.ellipse(twoPointList, fill=(0,255,0,255), outline =(0,200,0,255))\n",
    "    draw.text((18, 18),number,(0,0,0), font = font)\n",
    "    return img\n",
    "\n",
    "def Immo_map(df_filter):\n",
    "    m = Map(\n",
    "    basemap=basemaps.OpenStreetMap.Mapnik,\n",
    "    center = (52.57005, 13.39995),\n",
    "    zoom=12\n",
    "    )\n",
    "    locations = []\n",
    "    for index in tqdm(df_filter.index):\n",
    "        if df_filter['lon'][index] != 0 or df_filter['lat'][index] != 0:\n",
    "            popup = HTML()\n",
    "            price_by_m = str('%.2f' % float(df_filter['Price'][index]/df_filter['Area'][index]))\n",
    "            year = str(df_filter['Construction_Year'][index])\n",
    "            popup.value = '<a href=\"'+df_filter['url'][index] +'\"target=\"_blank\">Price/m2: '+ price_by_m + ' Area:'+str(df_filter['Area'][index])+ ' Year:'+year+' </a>'\n",
    "            lat = df_filter['lat'][index]\n",
    "            lon = df_filter['lon'][index]\n",
    "            #if df_filter['Precision'][index] == 0:\n",
    "            icon = Icon(icon_url='https://raw.githubusercontent.com/MuriloAndre2000/imgs/main/'+df_filter['url'][index].split('/')[-1]+'.png', icon_size=[30, 30])\n",
    "            #else:\n",
    "                #icon = Icon(icon_url='fileb.png', icon_size=[60, 60])\n",
    "            while (lat,lon) in locations:\n",
    "                lat += 0.0001*random.randint(-10, 10)\n",
    "                lon += 0.0001*random.randint(-10, 10)\n",
    "            point = (lat, lon)\n",
    "            m.add_layer(Marker(location=point,icon = icon,name = year,popup = popup, draggable=False))\n",
    "            locations.append(point)\n",
    "    print(len(locations), \" Real_States\")\n",
    "    #control = LayersControl(position='topright')\n",
    "    #m.add_control(control)\n",
    "    return m\n",
    "\n",
    "def wait_for_change(widget, value):\n",
    "    future = asyncio.Future()\n",
    "    def getvalue(change):\n",
    "        # make the new value available\n",
    "        future.set_result(change.new)\n",
    "        widget.unobserve(getvalue, value)\n",
    "    widget.observe(getvalue, value)\n",
    "    return future\n",
    "\n",
    "async def f(slide,list_of_slides):\n",
    "    while 1:\n",
    "        x = await wait_for_change(slide, 'value')\n",
    "        print('a')\n",
    "        clear_output()\n",
    "        for slid in list_of_slides:\n",
    "            display(slid)\n",
    "        conn = sqlite3.connect('Immo.db')\n",
    "        df_filter = pd.read_sql_query(\n",
    "        '''select * from Real_State\n",
    "        where Area >= '''+str(list_of_slides[0].value)+'''\n",
    "        and Area <=   '''+str(list_of_slides[1].value)+'''\n",
    "        and Pricem2 >= '''+str(list_of_slides[2].value)+'''\n",
    "        and Pricem2 <='''+str(list_of_slides[3].value)+'''\n",
    "        and Construction_Year >= '''+str(list_of_slides[4].value)+'''\n",
    "        and Construction_Year <='''+str(list_of_slides[5].value)+'''\n",
    "        ''', conn)\n",
    "        conn.close()\n",
    "        display(Immo_map(df_filter))\n",
    "\n",
    "\n",
    "def plot():\n",
    "    area_min = IntSlider(description='Area_Min:', min=0, max=50, value=0)\n",
    "    area_max = IntSlider(description='Area_Max:', min=0, max=401, value=400)\n",
    "    price_min = IntSlider(description='Price_Min:', min=0, max=20, value=0)\n",
    "    price_max = IntSlider(description='Price_Max:', min=0, max=20, value=20)\n",
    "    year_min = IntSlider(description='Year_Min:', min=1870, max=2020, value=1950)\n",
    "    year_max = IntSlider(description='Year_Max:', min=1900, max=2020, value=2020)\n",
    "    display(area_min,area_max,price_min,price_max,year_min,year_max)\n",
    "    list_of_slides = [area_min,area_max,price_min,price_max,year_min,year_max]\n",
    "    out = Output()\n",
    "    asyncio.ensure_future(f(area_min, list_of_slides))\n",
    "    asyncio.ensure_future(f(area_max, list_of_slides))\n",
    "    asyncio.ensure_future(f(price_min, list_of_slides))\n",
    "    asyncio.ensure_future(f(price_max, list_of_slides))\n",
    "    asyncio.ensure_future(f(year_min, list_of_slides))\n",
    "    asyncio.ensure_future(f(year_max, list_of_slides))\n",
    "    display(out)\n",
    "plot()"
   ]
  },
  {
   "cell_type": "code",
   "execution_count": null,
   "metadata": {},
   "outputs": [],
   "source": []
  },
  {
   "cell_type": "code",
   "execution_count": null,
   "metadata": {},
   "outputs": [],
   "source": []
  },
  {
   "cell_type": "code",
   "execution_count": null,
   "metadata": {},
   "outputs": [],
   "source": []
  }
 ],
 "metadata": {
  "kernelspec": {
   "display_name": "Python 3",
   "language": "python",
   "name": "python3"
  },
  "language_info": {
   "codemirror_mode": {
    "name": "ipython",
    "version": 3
   },
   "file_extension": ".py",
   "mimetype": "text/x-python",
   "name": "python",
   "nbconvert_exporter": "python",
   "pygments_lexer": "ipython3",
   "version": "3.7.5"
  }
 },
 "nbformat": 4,
 "nbformat_minor": 4
}
